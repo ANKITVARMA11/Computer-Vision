{
 "cells": [
  {
   "cell_type": "code",
   "execution_count": 4,
   "id": "078225eb",
   "metadata": {},
   "outputs": [],
   "source": [
    "import cv2\n",
    "import time\n",
    "cam = cv2.VideoCapture(0)\n",
    "\n",
    "width = int(cam.get(cv2.CAP_PROP_FRAME_WIDTH))      #   Capturing Height and Width\n",
    "height = int(cam.get(cv2.CAP_PROP_FRAME_HEIGHT))\n",
    "\n",
    "\n",
    "\n",
    "writer = cv2.VideoWriter(\"MyVideo.mp4\",cv2.VideoWriter_fourcc(*\"DIVX\"),fps = 30, frameSize=(width,height))\n",
    "\n",
    "\n",
    "\n",
    "\n",
    "while True:\n",
    "\n",
    "    ret, frame = cam.read()     # Tuple unpacking in which the frames are being captured\n",
    "    writer.write(frame)\n",
    "    gray = cv2.cvtColor(frame,cv2.COLOR_BGR2BGRA)   # Converting the frames to desired color space\n",
    "\n",
    "    cv2.imshow(\"frame\",gray)    # Showing each frame immediatley after capturing, basically video capturing\n",
    "    \n",
    "    if cv2.waitKey(1) & 0xFF == 27:   \n",
    "        break\n",
    "    \n",
    "cam.release()   # Necessary since, it needs to let go off the camera and turn it off\n",
    "writer.release()\n",
    "cv2.destroyAllWindows()\n"
   ]
  },
  {
   "cell_type": "code",
   "execution_count": 6,
   "id": "e33bddec",
   "metadata": {},
   "outputs": [],
   "source": [
    "cap = cv2.VideoCapture(\"MyVideo.mp4\")\n",
    "if cap.isOpened() == False:\n",
    "    print(\"FILE NOT FOUND OR WRONG CODEC USED. PLEASE VERIFY THE FILE PATH OR THE CODEC\")\n",
    "\n",
    "while cap.isOpened():\n",
    "\n",
    "    ret, frame = cap.read()\n",
    "\n",
    "    if ret == True:\n",
    "\n",
    "        #writer speed = 30fps\n",
    "        time.sleep(1/30)\n",
    "        cv2.imshow(\"frame\",frame)\n",
    "        if cv2.waitKey(1) & 0xFF == 27:\n",
    "            break\n",
    "    else:\n",
    "        break\n",
    "\n",
    "cap.release()\n",
    "cv2.destroyAllWindows()\n",
    "\n"
   ]
  },
  {
   "cell_type": "markdown",
   "id": "dbdcae9e",
   "metadata": {},
   "source": [
    "# Drawing on Videos"
   ]
  },
  {
   "cell_type": "code",
   "execution_count": 2,
   "id": "c8a605cf",
   "metadata": {},
   "outputs": [],
   "source": [
    "import cv2"
   ]
  },
  {
   "cell_type": "code",
   "execution_count": 10,
   "id": "1cdbf63b",
   "metadata": {},
   "outputs": [],
   "source": [
    "cap = cv2.VideoCapture(0)\n",
    "\n",
    "width = int(cap.get(cv2.CAP_PROP_FRAME_WIDTH))\n",
    "height = int(cap.get(cv2.CAP_PROP_FRAME_HEIGHT))\n",
    "\n",
    "# Top left corner of the Rectangle\n",
    "x = width//2 #Making sure it to be integer\n",
    "y = height//2\n",
    "\n",
    "# Bottom right corner of the Rectangle\n",
    "x1 = width // 4\n",
    "y1 = height // 4\n",
    "\n",
    "while True:\n",
    "\n",
    "    ret, frame = cap.read()\n",
    "\n",
    "    cv2.rectangle(frame,(x,y),(x+x1,y+y1),thickness = 4, color = (255,0,0))\n",
    "\n",
    "    cv2.imshow(\"frame\",frame)  # Frame should be displayed after ddrawing the rectangle\n",
    "\n",
    "\n",
    "    if cv2.waitKey(1) & 0xFF == 27:\n",
    "        break\n",
    "\n",
    "cap.release()\n",
    "cv2.destroyAllWindows()"
   ]
  },
  {
   "cell_type": "markdown",
   "id": "8876c26f",
   "metadata": {},
   "source": [
    "# Drawing on Live Video"
   ]
  },
  {
   "cell_type": "code",
   "execution_count": 11,
   "id": "8b446a42",
   "metadata": {},
   "outputs": [],
   "source": [
    "import cv2\n"
   ]
  },
  {
   "cell_type": "code",
   "execution_count": null,
   "id": "c4e813b5",
   "metadata": {},
   "outputs": [],
   "source": [
    "\n",
    "\n",
    "## Function\n",
    "def draw_rect(event,x,y,flags,param):\n",
    "\n",
    "    global pt1,pt2,topLeft_clicked,bottomRight_cicked\n",
    "\n",
    "    if event == cv2.EVENT_LBUTTONDOWN:\n",
    "        \n",
    "        if topLeft_clicked == True and bottomRight_cicked == True:\n",
    "            pt1 = (0,0)\n",
    "            pt2 = (0,0)\n",
    "            topLeft_clicked = False\n",
    "            bottomRight_cicked = False\n",
    "\n",
    "        if topLeft_clicked == False:\n",
    "            pt1 = (x,y)\n",
    "            topLeft_clicked = True\n",
    "        elif bottomRight_cicked == False:\n",
    "            pt2 = (x,y)\n",
    "            bottomRight_cicked = True\n",
    "\n",
    "\n",
    "\n",
    "## GLOBAL VARIABLES\n",
    "pt1 = (0,0)\n",
    "pt2 = (0,0)\n",
    "topLeft_clicked = False\n",
    "bottomRight_cicked = False\n",
    "\n",
    "## Connect to callback\n",
    "cap = cv2.VideoCapture(0)\n",
    "\n",
    "\n",
    "cv2.namedWindow(winname=\"Testing Window\")\n",
    "cv2.setMouseCallback(\"Testing Window\", draw_rect)\n",
    "\n",
    "\n",
    "while True:\n",
    "\n",
    "    ret, frame = cap.read()\n",
    "\n",
    "    if topLeft_clicked:\n",
    "        cv2.circle(frame, pt1,5,(0,255,0),thickness=2)\n",
    "    if topLeft_clicked and bottomRight_cicked:\n",
    "        cv2.rectangle(frame,pt1,pt2,thickness = 4, color = (255,0,0))\n",
    "\n",
    "\n",
    "    cv2.imshow(\"Testing Window\",frame)  # Frame should be displayed after ddrawing the rectangle\n",
    "\n",
    "\n",
    "    if cv2.waitKey(1) & 0xFF == 27:\n",
    "        break\n",
    "\n",
    "cap.release()\n",
    "cv2.destroyAllWindows()"
   ]
  },
  {
   "cell_type": "code",
   "execution_count": null,
   "id": "2338455c",
   "metadata": {},
   "outputs": [],
   "source": []
  }
 ],
 "metadata": {
  "kernelspec": {
   "display_name": "env",
   "language": "python",
   "name": "python3"
  },
  "language_info": {
   "codemirror_mode": {
    "name": "ipython",
    "version": 3
   },
   "file_extension": ".py",
   "mimetype": "text/x-python",
   "name": "python",
   "nbconvert_exporter": "python",
   "pygments_lexer": "ipython3",
   "version": "3.11.4"
  }
 },
 "nbformat": 4,
 "nbformat_minor": 5
}
