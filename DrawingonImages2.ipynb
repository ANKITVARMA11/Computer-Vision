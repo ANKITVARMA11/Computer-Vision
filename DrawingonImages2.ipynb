{
 "cells": [
  {
   "cell_type": "markdown",
   "id": "635317be",
   "metadata": {},
   "source": [
    "Drawing Circles just by Mouse Clicks"
   ]
  },
  {
   "cell_type": "code",
   "execution_count": 1,
   "id": "0dbfd6ce",
   "metadata": {},
   "outputs": [],
   "source": [
    "import cv2\n",
    "import numpy as np\n",
    "\n",
    "\n",
    "\n",
    "######## FUNCTION #######\n",
    "\n",
    "def draw_circle(event,x,y,flags,param):\n",
    "    if event == cv2.EVENT_LBUTTONDOWN:\n",
    "        cv2.circle(img,(x,y),radius=100,color=(255,0,0),thickness= 1)\n",
    "    elif event == cv2.EVENT_RBUTTONDOWN:\n",
    "        cv2.circle(img,(x,y),radius=100,color=(0,255,0),thickness= 1)\n",
    "\n",
    "\n",
    "cv2.namedWindow(winname = 'My_Scribble')\n",
    "cv2.setMouseCallback(\"My_Scribble\",draw_circle)\n",
    "\n",
    "######## SHOWING IMAGE WITH OPENCV #######\n",
    "\n",
    "\n",
    "img = np.zeros((512,512,3))\n",
    "while True:\n",
    "    cv2.imshow(\"My_Scribble\", img)\n",
    "\n",
    "    if cv2.waitKey(20) & 0xFF == 27:\n",
    "        break\n",
    "\n",
    "\n",
    "cv2.destroyAllWindows()"
   ]
  },
  {
   "cell_type": "markdown",
   "id": "b1153a02",
   "metadata": {},
   "source": [
    "Drawing using mouse drag"
   ]
  },
  {
   "cell_type": "code",
   "execution_count": null,
   "id": "f3912b26",
   "metadata": {},
   "outputs": [],
   "source": []
  }
 ],
 "metadata": {
  "kernelspec": {
   "display_name": "env",
   "language": "python",
   "name": "python3"
  },
  "language_info": {
   "codemirror_mode": {
    "name": "ipython",
    "version": 3
   },
   "file_extension": ".py",
   "mimetype": "text/x-python",
   "name": "python",
   "nbconvert_exporter": "python",
   "pygments_lexer": "ipython3",
   "version": "3.11.4"
  }
 },
 "nbformat": 4,
 "nbformat_minor": 5
}
